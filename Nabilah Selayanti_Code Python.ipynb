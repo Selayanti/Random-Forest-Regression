{
 "cells": [
  {
   "cell_type": "markdown",
   "id": "da8e3ee3",
   "metadata": {},
   "source": [
    "## Nama : Nabilah Selayanti\n",
    "## Asal   : UPN \"Veteran\" Jawa Timur\n",
    "## Prodi : Sains Data"
   ]
  },
  {
   "cell_type": "markdown",
   "id": "c17d763d",
   "metadata": {},
   "source": [
    "# 1. Load Data"
   ]
  },
  {
   "cell_type": "code",
   "execution_count": 1,
   "id": "3e94cfca",
   "metadata": {},
   "outputs": [
    {
     "data": {
      "text/html": [
       "<div>\n",
       "<style scoped>\n",
       "    .dataframe tbody tr th:only-of-type {\n",
       "        vertical-align: middle;\n",
       "    }\n",
       "\n",
       "    .dataframe tbody tr th {\n",
       "        vertical-align: top;\n",
       "    }\n",
       "\n",
       "    .dataframe thead th {\n",
       "        text-align: right;\n",
       "    }\n",
       "</style>\n",
       "<table border=\"1\" class=\"dataframe\">\n",
       "  <thead>\n",
       "    <tr style=\"text-align: right;\">\n",
       "      <th></th>\n",
       "      <th>ga:sourceMedium</th>\n",
       "      <th>ga:pageTitle</th>\n",
       "      <th>ga:users</th>\n",
       "      <th>ga:bounceRate</th>\n",
       "      <th>ga:pageviews</th>\n",
       "      <th>ga:pageviewsPerSession</th>\n",
       "      <th>ga:avgTimeOnPage</th>\n",
       "    </tr>\n",
       "  </thead>\n",
       "  <tbody>\n",
       "    <tr>\n",
       "      <th>0</th>\n",
       "      <td>facebook / cpc</td>\n",
       "      <td>Bikin Lambe Turah Diomelin, Nih Si Seksi yang ...</td>\n",
       "      <td>13736.0</td>\n",
       "      <td>19.269967</td>\n",
       "      <td>83593.0</td>\n",
       "      <td>6.042140</td>\n",
       "      <td>21.790189</td>\n",
       "    </tr>\n",
       "    <tr>\n",
       "      <th>1</th>\n",
       "      <td>facebook / cpc</td>\n",
       "      <td>Heboh! Kiki Farel Transfer Uang Jajan Rp 1 Jut...</td>\n",
       "      <td>15909.0</td>\n",
       "      <td>62.303763</td>\n",
       "      <td>74032.0</td>\n",
       "      <td>4.612011</td>\n",
       "      <td>16.330553</td>\n",
       "    </tr>\n",
       "    <tr>\n",
       "      <th>2</th>\n",
       "      <td>facebook / cpc</td>\n",
       "      <td>Tak Sesuai Harapan, Barang Belanja Online Ini ...</td>\n",
       "      <td>7748.0</td>\n",
       "      <td>30.934520</td>\n",
       "      <td>54657.0</td>\n",
       "      <td>6.949396</td>\n",
       "      <td>21.429338</td>\n",
       "    </tr>\n",
       "    <tr>\n",
       "      <th>3</th>\n",
       "      <td>facebook / cpc</td>\n",
       "      <td>Antar 'Tuyul', 7 Pengemudi Grab Dibekuk</td>\n",
       "      <td>43893.0</td>\n",
       "      <td>6.966219</td>\n",
       "      <td>47924.0</td>\n",
       "      <td>1.106560</td>\n",
       "      <td>5.056397</td>\n",
       "    </tr>\n",
       "    <tr>\n",
       "      <th>4</th>\n",
       "      <td>facebook / cpc</td>\n",
       "      <td>Melihat Kantor Pelayanan Grab Driver Center</td>\n",
       "      <td>41155.0</td>\n",
       "      <td>11.630219</td>\n",
       "      <td>44072.0</td>\n",
       "      <td>43.809145</td>\n",
       "      <td>180.944233</td>\n",
       "    </tr>\n",
       "    <tr>\n",
       "      <th>...</th>\n",
       "      <td>...</td>\n",
       "      <td>...</td>\n",
       "      <td>...</td>\n",
       "      <td>...</td>\n",
       "      <td>...</td>\n",
       "      <td>...</td>\n",
       "      <td>...</td>\n",
       "    </tr>\n",
       "    <tr>\n",
       "      <th>151</th>\n",
       "      <td>facebook / cpc</td>\n",
       "      <td>Edan, Ponsel Ini Punya Baterai 13.000 mAh</td>\n",
       "      <td>198.0</td>\n",
       "      <td>76.923077</td>\n",
       "      <td>215.0</td>\n",
       "      <td>1.837607</td>\n",
       "      <td>101.685393</td>\n",
       "    </tr>\n",
       "    <tr>\n",
       "      <th>152</th>\n",
       "      <td>facebook / cpc</td>\n",
       "      <td>Gempa Keras di Jakarta Terasa Lebih dari 1 Menit</td>\n",
       "      <td>180.0</td>\n",
       "      <td>20.000000</td>\n",
       "      <td>215.0</td>\n",
       "      <td>2.388889</td>\n",
       "      <td>233.640000</td>\n",
       "    </tr>\n",
       "    <tr>\n",
       "      <th>153</th>\n",
       "      <td>facebook / cpc</td>\n",
       "      <td>Jennifer Dunn dan Deretan Mobil Mewahnya</td>\n",
       "      <td>180.0</td>\n",
       "      <td>100.000000</td>\n",
       "      <td>215.0</td>\n",
       "      <td>23.888889</td>\n",
       "      <td>97.836735</td>\n",
       "    </tr>\n",
       "    <tr>\n",
       "      <th>154</th>\n",
       "      <td>facebook / cpc</td>\n",
       "      <td>Kasus Salah Baca Xiaomi Terulang Kembali</td>\n",
       "      <td>180.0</td>\n",
       "      <td>83.333333</td>\n",
       "      <td>215.0</td>\n",
       "      <td>1.990741</td>\n",
       "      <td>178.449438</td>\n",
       "    </tr>\n",
       "    <tr>\n",
       "      <th>155</th>\n",
       "      <td>facebook / cpc</td>\n",
       "      <td>Netizen Ramai Teriakkan</td>\n",
       "      <td>NaN</td>\n",
       "      <td>NaN</td>\n",
       "      <td>NaN</td>\n",
       "      <td>NaN</td>\n",
       "      <td>NaN</td>\n",
       "    </tr>\n",
       "  </tbody>\n",
       "</table>\n",
       "<p>156 rows × 7 columns</p>\n",
       "</div>"
      ],
      "text/plain": [
       "    ga:sourceMedium                                       ga:pageTitle  \\\n",
       "0    facebook / cpc  Bikin Lambe Turah Diomelin, Nih Si Seksi yang ...   \n",
       "1    facebook / cpc  Heboh! Kiki Farel Transfer Uang Jajan Rp 1 Jut...   \n",
       "2    facebook / cpc  Tak Sesuai Harapan, Barang Belanja Online Ini ...   \n",
       "3    facebook / cpc            Antar 'Tuyul', 7 Pengemudi Grab Dibekuk   \n",
       "4    facebook / cpc        Melihat Kantor Pelayanan Grab Driver Center   \n",
       "..              ...                                                ...   \n",
       "151  facebook / cpc          Edan, Ponsel Ini Punya Baterai 13.000 mAh   \n",
       "152  facebook / cpc   Gempa Keras di Jakarta Terasa Lebih dari 1 Menit   \n",
       "153  facebook / cpc           Jennifer Dunn dan Deretan Mobil Mewahnya   \n",
       "154  facebook / cpc           Kasus Salah Baca Xiaomi Terulang Kembali   \n",
       "155  facebook / cpc                            Netizen Ramai Teriakkan   \n",
       "\n",
       "     ga:users  ga:bounceRate  ga:pageviews  ga:pageviewsPerSession  \\\n",
       "0     13736.0      19.269967       83593.0                6.042140   \n",
       "1     15909.0      62.303763       74032.0                4.612011   \n",
       "2      7748.0      30.934520       54657.0                6.949396   \n",
       "3     43893.0       6.966219       47924.0                1.106560   \n",
       "4     41155.0      11.630219       44072.0               43.809145   \n",
       "..        ...            ...           ...                     ...   \n",
       "151     198.0      76.923077         215.0                1.837607   \n",
       "152     180.0      20.000000         215.0                2.388889   \n",
       "153     180.0     100.000000         215.0               23.888889   \n",
       "154     180.0      83.333333         215.0                1.990741   \n",
       "155       NaN            NaN           NaN                     NaN   \n",
       "\n",
       "     ga:avgTimeOnPage  \n",
       "0           21.790189  \n",
       "1           16.330553  \n",
       "2           21.429338  \n",
       "3            5.056397  \n",
       "4          180.944233  \n",
       "..                ...  \n",
       "151        101.685393  \n",
       "152        233.640000  \n",
       "153         97.836735  \n",
       "154        178.449438  \n",
       "155               NaN  \n",
       "\n",
       "[156 rows x 7 columns]"
      ]
     },
     "execution_count": 1,
     "metadata": {},
     "output_type": "execute_result"
    }
   ],
   "source": [
    "import pandas as pd\n",
    "data = pd.read_excel(\"D:/COLLEGE/MAGANG/DETIK ASSIGNMENT/Assignment Data Analyst MSIB Batch 7.xlsx\")\n",
    "data"
   ]
  },
  {
   "cell_type": "markdown",
   "id": "1eea74e0",
   "metadata": {},
   "source": [
    "# 2. Data Understanding"
   ]
  },
  {
   "cell_type": "code",
   "execution_count": 2,
   "id": "6e1482c9",
   "metadata": {},
   "outputs": [
    {
     "name": "stdout",
     "output_type": "stream",
     "text": [
      "<class 'pandas.core.frame.DataFrame'>\n",
      "RangeIndex: 156 entries, 0 to 155\n",
      "Data columns (total 7 columns):\n",
      " #   Column                  Non-Null Count  Dtype  \n",
      "---  ------                  --------------  -----  \n",
      " 0   ga:sourceMedium         156 non-null    object \n",
      " 1   ga:pageTitle            156 non-null    object \n",
      " 2   ga:users                155 non-null    float64\n",
      " 3   ga:bounceRate           155 non-null    float64\n",
      " 4   ga:pageviews            155 non-null    float64\n",
      " 5   ga:pageviewsPerSession  155 non-null    float64\n",
      " 6   ga:avgTimeOnPage        155 non-null    float64\n",
      "dtypes: float64(5), object(2)\n",
      "memory usage: 8.7+ KB\n"
     ]
    }
   ],
   "source": [
    "# cek informasi data\n",
    "data.info()"
   ]
  },
  {
   "cell_type": "code",
   "execution_count": 3,
   "id": "666ab970",
   "metadata": {},
   "outputs": [
    {
     "data": {
      "text/plain": [
       "ga:sourceMedium           0\n",
       "ga:pageTitle              0\n",
       "ga:users                  1\n",
       "ga:bounceRate             1\n",
       "ga:pageviews              1\n",
       "ga:pageviewsPerSession    1\n",
       "ga:avgTimeOnPage          1\n",
       "dtype: int64"
      ]
     },
     "execution_count": 3,
     "metadata": {},
     "output_type": "execute_result"
    }
   ],
   "source": [
    "# cek missing value\n",
    "data.isnull().sum()"
   ]
  },
  {
   "cell_type": "code",
   "execution_count": 4,
   "id": "9a15b7fa",
   "metadata": {},
   "outputs": [
    {
     "data": {
      "text/html": [
       "<div>\n",
       "<style scoped>\n",
       "    .dataframe tbody tr th:only-of-type {\n",
       "        vertical-align: middle;\n",
       "    }\n",
       "\n",
       "    .dataframe tbody tr th {\n",
       "        vertical-align: top;\n",
       "    }\n",
       "\n",
       "    .dataframe thead th {\n",
       "        text-align: right;\n",
       "    }\n",
       "</style>\n",
       "<table border=\"1\" class=\"dataframe\">\n",
       "  <thead>\n",
       "    <tr style=\"text-align: right;\">\n",
       "      <th></th>\n",
       "      <th>ga:sourceMedium</th>\n",
       "      <th>ga:pageTitle</th>\n",
       "      <th>ga:users</th>\n",
       "      <th>ga:bounceRate</th>\n",
       "      <th>ga:pageviews</th>\n",
       "      <th>ga:pageviewsPerSession</th>\n",
       "      <th>ga:avgTimeOnPage</th>\n",
       "    </tr>\n",
       "  </thead>\n",
       "  <tbody>\n",
       "    <tr>\n",
       "      <th>155</th>\n",
       "      <td>facebook / cpc</td>\n",
       "      <td>Netizen Ramai Teriakkan</td>\n",
       "      <td>NaN</td>\n",
       "      <td>NaN</td>\n",
       "      <td>NaN</td>\n",
       "      <td>NaN</td>\n",
       "      <td>NaN</td>\n",
       "    </tr>\n",
       "  </tbody>\n",
       "</table>\n",
       "</div>"
      ],
      "text/plain": [
       "    ga:sourceMedium             ga:pageTitle  ga:users  ga:bounceRate  \\\n",
       "155  facebook / cpc  Netizen Ramai Teriakkan       NaN            NaN   \n",
       "\n",
       "     ga:pageviews  ga:pageviewsPerSession  ga:avgTimeOnPage  \n",
       "155           NaN                     NaN               NaN  "
      ]
     },
     "execution_count": 4,
     "metadata": {},
     "output_type": "execute_result"
    }
   ],
   "source": [
    "# mengecek baris yang memiliki missing valu\n",
    "missing_rows = data[data.isna().any(axis=1)]\n",
    "missing_rows"
   ]
  },
  {
   "cell_type": "code",
   "execution_count": 5,
   "id": "fbd09a00",
   "metadata": {},
   "outputs": [],
   "source": [
    "# karena yang missing value ada satu baris, maka  bahwa baris tersebut dihapus karena seluruh kolomnya mengandung missing values, \n",
    "# dan penghapusan satu baris tidak akan mengurangi integritas dataset.\n",
    "data.drop(155,  inplace=True)"
   ]
  },
  {
   "cell_type": "code",
   "execution_count": 6,
   "id": "ac873d3c",
   "metadata": {},
   "outputs": [
    {
     "data": {
      "text/html": [
       "<div>\n",
       "<style scoped>\n",
       "    .dataframe tbody tr th:only-of-type {\n",
       "        vertical-align: middle;\n",
       "    }\n",
       "\n",
       "    .dataframe tbody tr th {\n",
       "        vertical-align: top;\n",
       "    }\n",
       "\n",
       "    .dataframe thead th {\n",
       "        text-align: right;\n",
       "    }\n",
       "</style>\n",
       "<table border=\"1\" class=\"dataframe\">\n",
       "  <thead>\n",
       "    <tr style=\"text-align: right;\">\n",
       "      <th></th>\n",
       "      <th>ga:users</th>\n",
       "      <th>ga:bounceRate</th>\n",
       "      <th>ga:pageviews</th>\n",
       "      <th>ga:pageviewsPerSession</th>\n",
       "      <th>ga:avgTimeOnPage</th>\n",
       "    </tr>\n",
       "  </thead>\n",
       "  <tbody>\n",
       "    <tr>\n",
       "      <th>count</th>\n",
       "      <td>155.000000</td>\n",
       "      <td>155.000000</td>\n",
       "      <td>155.000000</td>\n",
       "      <td>155.000000</td>\n",
       "      <td>155.000000</td>\n",
       "    </tr>\n",
       "    <tr>\n",
       "      <th>mean</th>\n",
       "      <td>1995.722581</td>\n",
       "      <td>31.925982</td>\n",
       "      <td>3607.174194</td>\n",
       "      <td>16.204284</td>\n",
       "      <td>75.428357</td>\n",
       "    </tr>\n",
       "    <tr>\n",
       "      <th>std</th>\n",
       "      <td>6449.314679</td>\n",
       "      <td>36.030184</td>\n",
       "      <td>11845.050364</td>\n",
       "      <td>32.522916</td>\n",
       "      <td>77.975259</td>\n",
       "    </tr>\n",
       "    <tr>\n",
       "      <th>min</th>\n",
       "      <td>9.000000</td>\n",
       "      <td>0.000000</td>\n",
       "      <td>215.000000</td>\n",
       "      <td>0.000000</td>\n",
       "      <td>2.814915</td>\n",
       "    </tr>\n",
       "    <tr>\n",
       "      <th>25%</th>\n",
       "      <td>108.000000</td>\n",
       "      <td>0.000000</td>\n",
       "      <td>287.000000</td>\n",
       "      <td>0.000000</td>\n",
       "      <td>16.948403</td>\n",
       "    </tr>\n",
       "    <tr>\n",
       "      <th>50%</th>\n",
       "      <td>233.000000</td>\n",
       "      <td>17.070773</td>\n",
       "      <td>431.000000</td>\n",
       "      <td>2.353535</td>\n",
       "      <td>44.720930</td>\n",
       "    </tr>\n",
       "    <tr>\n",
       "      <th>75%</th>\n",
       "      <td>458.000000</td>\n",
       "      <td>62.401881</td>\n",
       "      <td>826.000000</td>\n",
       "      <td>22.194444</td>\n",
       "      <td>109.392803</td>\n",
       "    </tr>\n",
       "    <tr>\n",
       "      <th>max</th>\n",
       "      <td>43893.000000</td>\n",
       "      <td>100.000000</td>\n",
       "      <td>83593.000000</td>\n",
       "      <td>268.833333</td>\n",
       "      <td>449.897196</td>\n",
       "    </tr>\n",
       "  </tbody>\n",
       "</table>\n",
       "</div>"
      ],
      "text/plain": [
       "           ga:users  ga:bounceRate  ga:pageviews  ga:pageviewsPerSession  \\\n",
       "count    155.000000     155.000000    155.000000              155.000000   \n",
       "mean    1995.722581      31.925982   3607.174194               16.204284   \n",
       "std     6449.314679      36.030184  11845.050364               32.522916   \n",
       "min        9.000000       0.000000    215.000000                0.000000   \n",
       "25%      108.000000       0.000000    287.000000                0.000000   \n",
       "50%      233.000000      17.070773    431.000000                2.353535   \n",
       "75%      458.000000      62.401881    826.000000               22.194444   \n",
       "max    43893.000000     100.000000  83593.000000              268.833333   \n",
       "\n",
       "       ga:avgTimeOnPage  \n",
       "count        155.000000  \n",
       "mean          75.428357  \n",
       "std           77.975259  \n",
       "min            2.814915  \n",
       "25%           16.948403  \n",
       "50%           44.720930  \n",
       "75%          109.392803  \n",
       "max          449.897196  "
      ]
     },
     "execution_count": 6,
     "metadata": {},
     "output_type": "execute_result"
    }
   ],
   "source": [
    "# statistika deskriptif\n",
    "data.describe()"
   ]
  },
  {
   "cell_type": "markdown",
   "id": "abd4673e",
   "metadata": {},
   "source": [
    "# 3. Statistika Deskriptif\n",
    "bertujuan untuk memberikan gambaran umum tentang karakteristik data yang akan dianalisis lebih lanjut."
   ]
  },
  {
   "cell_type": "markdown",
   "id": "f52006a9",
   "metadata": {},
   "source": [
    "### - Frekuensi tiap Sumber/Media "
   ]
  },
  {
   "cell_type": "code",
   "execution_count": 7,
   "id": "ea42fc77",
   "metadata": {},
   "outputs": [
    {
     "data": {
      "image/png": "[encoded data removed]",
      "text/plain": [
       "<Figure size 640x480 with 1 Axes>"
      ]
     },
     "metadata": {},
     "output_type": "display_data"
    }
   ],
   "source": [
    "import seaborn as sns\n",
    "import matplotlib.pyplot as plt\n",
    "\n",
    "# Menggambar bar chart\n",
    "ax = sns.countplot(y='ga:sourceMedium', data=data, order=data['ga:sourceMedium'].value_counts().index)\n",
    "plt.title('Frequency of Different Source/Medium')\n",
    "\n",
    "# Menambahkan angka di atas setiap bar\n",
    "for p in ax.patches:\n",
    "    width = p.get_width() \n",
    "    ax.text(width + 0.05, p.get_y() + p.get_height()/2, f'{width}', \n",
    "            ha='left', va='center', fontsize=10)\n",
    "plt.show()"
   ]
  },
  {
   "cell_type": "markdown",
   "id": "ca73aab2",
   "metadata": {},
   "source": [
    "### - Presentase untuk 'ga:sourceMedium'"
   ]
  },
  {
   "cell_type": "code",
   "execution_count": 8,
   "id": "f9418dcd",
   "metadata": {},
   "outputs": [
    {
     "data": {
      "image/png": "[encoded data removed]",
      "text/plain": [
       "<Figure size 800x600 with 1 Axes>"
      ]
     },
     "metadata": {},
     "output_type": "display_data"
    }
   ],
   "source": [
    "source_medium_counts = data['ga:sourceMedium'].value_counts()\n",
    "labels = source_medium_counts.index\n",
    "sizes = source_medium_counts.values\n",
    "colors = ['lightblue', 'lightgrey']  \n",
    "explode = [0.1] * len(labels) \n",
    "\n",
    "plt.figure(figsize=(8, 6))\n",
    "plt.pie(sizes, explode=explode, labels=labels, colors=colors, autopct='%1.1f%%', startangle=140)\n",
    "plt.title('Proportion of Source/Medium')\n",
    "plt.axis('equal') \n",
    "plt.show()"
   ]
  },
  {
   "cell_type": "markdown",
   "id": "7b7cb735",
   "metadata": {},
   "source": [
    "### - Top 5 Most Viewed Pages"
   ]
  },
  {
   "cell_type": "code",
   "execution_count": 9,
   "id": "ed421f5c",
   "metadata": {},
   "outputs": [
    {
     "data": {
      "image/png": "[encoded data removed]",
      "text/plain": [
       "<Figure size 640x480 with 1 Axes>"
      ]
     },
     "metadata": {},
     "output_type": "display_data"
    }
   ],
   "source": [
    "# Mengambil 5 halaman teratas berdasarkan jumlah tampilan\n",
    "top_pages = data['ga:pageTitle'].value_counts().nlargest(5)\n",
    "\n",
    "# Menggambar bar chart horizontal\n",
    "ax = top_pages.plot(kind='barh', color='skyblue')\n",
    "plt.title('Top 5 Most Viewed Pages')\n",
    "plt.xlabel('Frequency')\n",
    "\n",
    "# Menambahkan angka di atas setiap bar\n",
    "for index, value in enumerate(top_pages):ax.text(value + 0.05, index, f'{value}', va='center', fontsize=10)\n",
    "plt.show()"
   ]
  },
  {
   "cell_type": "markdown",
   "id": "37a9dd52",
   "metadata": {},
   "source": [
    "### - Mengurutkan data berdasarkan 'ga:users' secara menurun dan memilih 5 teratas"
   ]
  },
  {
   "cell_type": "code",
   "execution_count": 10,
   "id": "a195407b",
   "metadata": {},
   "outputs": [
    {
     "data": {
      "image/png": "[encoded data removed]",
      "text/plain": [
       "<Figure size 1000x600 with 1 Axes>"
      ]
     },
     "metadata": {},
     "output_type": "display_data"
    }
   ],
   "source": [
    "top_5_pages = data.nlargest(5, 'ga:users')[['ga:pageTitle', 'ga:users']]\n",
    "\n",
    "plt.figure(figsize=(10, 6))\n",
    "bars = plt.barh(top_5_pages['ga:pageTitle'], top_5_pages['ga:users'], color='skyblue')\n",
    "plt.xlabel('Number of Users')\n",
    "plt.ylabel('Page Title')\n",
    "plt.title('Top 5 Pages with the Most Users')\n",
    "plt.gca().invert_yaxis() \n",
    "\n",
    "# Menambahkan angka di atas setiap bar\n",
    "for bar in bars:\n",
    "    width = bar.get_width()\n",
    "    plt.text(width, bar.get_y() + bar.get_height() / 2, f'{width:.0f}', \n",
    "             va='center', ha='left', color='black')\n",
    "plt.show()"
   ]
  },
  {
   "cell_type": "markdown",
   "id": "614eb69f",
   "metadata": {},
   "source": [
    "### - Korelasi Data"
   ]
  },
  {
   "cell_type": "code",
   "execution_count": 11,
   "id": "1f48042f",
   "metadata": {},
   "outputs": [
    {
     "name": "stdout",
     "output_type": "stream",
     "text": [
      "Index(['ga:users', 'ga:bounceRate', 'ga:pageviews', 'ga:pageviewsPerSession',\n",
      "       'ga:avgTimeOnPage'],\n",
      "      dtype='object')\n"
     ]
    },
    {
     "data": {
      "image/png": "[encoded data removed]",
      "text/plain": [
       "<Figure size 640x480 with 2 Axes>"
      ]
     },
     "metadata": {},
     "output_type": "display_data"
    }
   ],
   "source": [
    "# Pisahkan data numerik\n",
    "numerical_data = data.select_dtypes(include=['float64', 'int64'])\n",
    "\n",
    "# Cek jika ada variabel yang tidak numerik dalam numerik_data\n",
    "print(numerical_data.columns)\n",
    "\n",
    "# Hitung korelasi\n",
    "correlation_matrix = numerical_data.corr()\n",
    "\n",
    "# Plot heatmap korelasi\n",
    "sns.heatmap(correlation_matrix, annot=True, cmap='coolwarm')\n",
    "plt.title('Correlation Matrix')\n",
    "plt.show()"
   ]
  },
  {
   "cell_type": "markdown",
   "id": "013ee958",
   "metadata": {},
   "source": [
    "# 4. Pemodelan Random Forest Regression"
   ]
  },
  {
   "cell_type": "markdown",
   "id": "713c11bf",
   "metadata": {},
   "source": [
    "### • Import library yang diperlukan"
   ]
  },
  {
   "cell_type": "code",
   "execution_count": 12,
   "id": "0bb46023",
   "metadata": {},
   "outputs": [],
   "source": [
    "import numpy as np\n",
    "import pandas as pd\n",
    "import seaborn as sns\n",
    "import matplotlib.pyplot as plt\n",
    "from sklearn.model_selection import train_test_split\n",
    "from sklearn.preprocessing import StandardScaler, OneHotEncoder\n",
    "from sklearn.compose import ColumnTransformer\n",
    "from sklearn.pipeline import Pipeline\n",
    "from sklearn.ensemble import RandomForestRegressor\n",
    "from sklearn.metrics import mean_squared_error, r2_score, mean_absolute_error\n",
    "from sklearn.model_selection import GridSearchCV\n",
    "from sklearn.pipeline import Pipeline"
   ]
  },
  {
   "cell_type": "markdown",
   "id": "26767cf6",
   "metadata": {},
   "source": [
    "### • Fungsi untuk ekstraksi fitur dari judul\n",
    "Mengubah teks judul halaman (ga:pageTitle) menjadi fitur numerik atau kategorikal yang dapat digunakan dalam analisis atau model. Ini bisa termasuk panjang judul, jumlah kata, kehadiran kata kunci tertentu, dan sebagainya.\n"
   ]
  },
  {
   "cell_type": "code",
   "execution_count": 14,
   "id": "fc9eb3f6",
   "metadata": {},
   "outputs": [
    {
     "data": {
      "text/html": [
       "<div>\n",
       "<style scoped>\n",
       "    .dataframe tbody tr th:only-of-type {\n",
       "        vertical-align: middle;\n",
       "    }\n",
       "\n",
       "    .dataframe tbody tr th {\n",
       "        vertical-align: top;\n",
       "    }\n",
       "\n",
       "    .dataframe thead th {\n",
       "        text-align: right;\n",
       "    }\n",
       "</style>\n",
       "<table border=\"1\" class=\"dataframe\">\n",
       "  <thead>\n",
       "    <tr style=\"text-align: right;\">\n",
       "      <th></th>\n",
       "      <th>ga:sourceMedium</th>\n",
       "      <th>ga:pageTitle</th>\n",
       "      <th>ga:users</th>\n",
       "      <th>ga:bounceRate</th>\n",
       "      <th>ga:pageviews</th>\n",
       "      <th>ga:pageviewsPerSession</th>\n",
       "      <th>ga:avgTimeOnPage</th>\n",
       "      <th>title_length</th>\n",
       "      <th>has_number</th>\n",
       "      <th>exclamation_mark</th>\n",
       "    </tr>\n",
       "  </thead>\n",
       "  <tbody>\n",
       "    <tr>\n",
       "      <th>0</th>\n",
       "      <td>facebook / cpc</td>\n",
       "      <td>Bikin Lambe Turah Diomelin, Nih Si Seksi yang ...</td>\n",
       "      <td>13736.0</td>\n",
       "      <td>19.269967</td>\n",
       "      <td>83593.0</td>\n",
       "      <td>6.042140</td>\n",
       "      <td>21.790189</td>\n",
       "      <td>73</td>\n",
       "      <td>0</td>\n",
       "      <td>0</td>\n",
       "    </tr>\n",
       "    <tr>\n",
       "      <th>1</th>\n",
       "      <td>facebook / cpc</td>\n",
       "      <td>Heboh! Kiki Farel Transfer Uang Jajan Rp 1 Jut...</td>\n",
       "      <td>15909.0</td>\n",
       "      <td>62.303763</td>\n",
       "      <td>74032.0</td>\n",
       "      <td>4.612011</td>\n",
       "      <td>16.330553</td>\n",
       "      <td>70</td>\n",
       "      <td>1</td>\n",
       "      <td>1</td>\n",
       "    </tr>\n",
       "    <tr>\n",
       "      <th>2</th>\n",
       "      <td>facebook / cpc</td>\n",
       "      <td>Tak Sesuai Harapan, Barang Belanja Online Ini ...</td>\n",
       "      <td>7748.0</td>\n",
       "      <td>30.934520</td>\n",
       "      <td>54657.0</td>\n",
       "      <td>6.949396</td>\n",
       "      <td>21.429338</td>\n",
       "      <td>58</td>\n",
       "      <td>0</td>\n",
       "      <td>0</td>\n",
       "    </tr>\n",
       "    <tr>\n",
       "      <th>3</th>\n",
       "      <td>facebook / cpc</td>\n",
       "      <td>Antar 'Tuyul', 7 Pengemudi Grab Dibekuk</td>\n",
       "      <td>43893.0</td>\n",
       "      <td>6.966219</td>\n",
       "      <td>47924.0</td>\n",
       "      <td>1.106560</td>\n",
       "      <td>5.056397</td>\n",
       "      <td>39</td>\n",
       "      <td>1</td>\n",
       "      <td>0</td>\n",
       "    </tr>\n",
       "    <tr>\n",
       "      <th>4</th>\n",
       "      <td>facebook / cpc</td>\n",
       "      <td>Melihat Kantor Pelayanan Grab Driver Center</td>\n",
       "      <td>41155.0</td>\n",
       "      <td>11.630219</td>\n",
       "      <td>44072.0</td>\n",
       "      <td>43.809145</td>\n",
       "      <td>180.944233</td>\n",
       "      <td>43</td>\n",
       "      <td>0</td>\n",
       "      <td>0</td>\n",
       "    </tr>\n",
       "    <tr>\n",
       "      <th>...</th>\n",
       "      <td>...</td>\n",
       "      <td>...</td>\n",
       "      <td>...</td>\n",
       "      <td>...</td>\n",
       "      <td>...</td>\n",
       "      <td>...</td>\n",
       "      <td>...</td>\n",
       "      <td>...</td>\n",
       "      <td>...</td>\n",
       "      <td>...</td>\n",
       "    </tr>\n",
       "    <tr>\n",
       "      <th>150</th>\n",
       "      <td>facebook / cpc</td>\n",
       "      <td>Ungkapan Duka Cita Untuk Sys NS Deras di Insta...</td>\n",
       "      <td>153.0</td>\n",
       "      <td>0.000000</td>\n",
       "      <td>224.0</td>\n",
       "      <td>0.000000</td>\n",
       "      <td>109.847059</td>\n",
       "      <td>50</td>\n",
       "      <td>0</td>\n",
       "      <td>0</td>\n",
       "    </tr>\n",
       "    <tr>\n",
       "      <th>151</th>\n",
       "      <td>facebook / cpc</td>\n",
       "      <td>Edan, Ponsel Ini Punya Baterai 13.000 mAh</td>\n",
       "      <td>198.0</td>\n",
       "      <td>76.923077</td>\n",
       "      <td>215.0</td>\n",
       "      <td>1.837607</td>\n",
       "      <td>101.685393</td>\n",
       "      <td>41</td>\n",
       "      <td>1</td>\n",
       "      <td>0</td>\n",
       "    </tr>\n",
       "    <tr>\n",
       "      <th>152</th>\n",
       "      <td>facebook / cpc</td>\n",
       "      <td>Gempa Keras di Jakarta Terasa Lebih dari 1 Menit</td>\n",
       "      <td>180.0</td>\n",
       "      <td>20.000000</td>\n",
       "      <td>215.0</td>\n",
       "      <td>2.388889</td>\n",
       "      <td>233.640000</td>\n",
       "      <td>48</td>\n",
       "      <td>1</td>\n",
       "      <td>0</td>\n",
       "    </tr>\n",
       "    <tr>\n",
       "      <th>153</th>\n",
       "      <td>facebook / cpc</td>\n",
       "      <td>Jennifer Dunn dan Deretan Mobil Mewahnya</td>\n",
       "      <td>180.0</td>\n",
       "      <td>100.000000</td>\n",
       "      <td>215.0</td>\n",
       "      <td>23.888889</td>\n",
       "      <td>97.836735</td>\n",
       "      <td>40</td>\n",
       "      <td>0</td>\n",
       "      <td>0</td>\n",
       "    </tr>\n",
       "    <tr>\n",
       "      <th>154</th>\n",
       "      <td>facebook / cpc</td>\n",
       "      <td>Kasus Salah Baca Xiaomi Terulang Kembali</td>\n",
       "      <td>180.0</td>\n",
       "      <td>83.333333</td>\n",
       "      <td>215.0</td>\n",
       "      <td>1.990741</td>\n",
       "      <td>178.449438</td>\n",
       "      <td>40</td>\n",
       "      <td>0</td>\n",
       "      <td>0</td>\n",
       "    </tr>\n",
       "  </tbody>\n",
       "</table>\n",
       "<p>155 rows × 10 columns</p>\n",
       "</div>"
      ],
      "text/plain": [
       "    ga:sourceMedium                                       ga:pageTitle  \\\n",
       "0    facebook / cpc  Bikin Lambe Turah Diomelin, Nih Si Seksi yang ...   \n",
       "1    facebook / cpc  Heboh! Kiki Farel Transfer Uang Jajan Rp 1 Jut...   \n",
       "2    facebook / cpc  Tak Sesuai Harapan, Barang Belanja Online Ini ...   \n",
       "3    facebook / cpc            Antar 'Tuyul', 7 Pengemudi Grab Dibekuk   \n",
       "4    facebook / cpc        Melihat Kantor Pelayanan Grab Driver Center   \n",
       "..              ...                                                ...   \n",
       "150  facebook / cpc  Ungkapan Duka Cita Untuk Sys NS Deras di Insta...   \n",
       "151  facebook / cpc          Edan, Ponsel Ini Punya Baterai 13.000 mAh   \n",
       "152  facebook / cpc   Gempa Keras di Jakarta Terasa Lebih dari 1 Menit   \n",
       "153  facebook / cpc           Jennifer Dunn dan Deretan Mobil Mewahnya   \n",
       "154  facebook / cpc           Kasus Salah Baca Xiaomi Terulang Kembali   \n",
       "\n",
       "     ga:users  ga:bounceRate  ga:pageviews  ga:pageviewsPerSession  \\\n",
       "0     13736.0      19.269967       83593.0                6.042140   \n",
       "1     15909.0      62.303763       74032.0                4.612011   \n",
       "2      7748.0      30.934520       54657.0                6.949396   \n",
       "3     43893.0       6.966219       47924.0                1.106560   \n",
       "4     41155.0      11.630219       44072.0               43.809145   \n",
       "..        ...            ...           ...                     ...   \n",
       "150     153.0       0.000000         224.0                0.000000   \n",
       "151     198.0      76.923077         215.0                1.837607   \n",
       "152     180.0      20.000000         215.0                2.388889   \n",
       "153     180.0     100.000000         215.0               23.888889   \n",
       "154     180.0      83.333333         215.0                1.990741   \n",
       "\n",
       "     ga:avgTimeOnPage  title_length  has_number  exclamation_mark  \n",
       "0           21.790189            73           0                 0  \n",
       "1           16.330553            70           1                 1  \n",
       "2           21.429338            58           0                 0  \n",
       "3            5.056397            39           1                 0  \n",
       "4          180.944233            43           0                 0  \n",
       "..                ...           ...         ...               ...  \n",
       "150        109.847059            50           0                 0  \n",
       "151        101.685393            41           1                 0  \n",
       "152        233.640000            48           1                 0  \n",
       "153         97.836735            40           0                 0  \n",
       "154        178.449438            40           0                 0  \n",
       "\n",
       "[155 rows x 10 columns]"
      ]
     },
     "execution_count": 14,
     "metadata": {},
     "output_type": "execute_result"
    }
   ],
   "source": [
    "def extract_title_features(title):\n",
    "    return {\n",
    "        'title_length': len(title),\n",
    "        'has_number': int(any(char.isdigit() for char in title)),\n",
    "        'exclamation_mark': title.count('!')\n",
    "    }\n",
    "\n",
    "# Aplikasikan fungsi ekstraksi fitur\n",
    "title_features = data['ga:pageTitle'].apply(extract_title_features).apply(pd.Series)\n",
    "df = pd.concat([data, title_features], axis=1)\n",
    "df"
   ]
  },
  {
   "cell_type": "markdown",
   "id": "fbe1c86b",
   "metadata": {},
   "source": [
    "### • Standrarisasi"
   ]
  },
  {
   "cell_type": "code",
   "execution_count": 118,
   "id": "7049534b",
   "metadata": {},
   "outputs": [
    {
     "data": {
      "text/html": [
       "<div>\n",
       "<style scoped>\n",
       "    .dataframe tbody tr th:only-of-type {\n",
       "        vertical-align: middle;\n",
       "    }\n",
       "\n",
       "    .dataframe tbody tr th {\n",
       "        vertical-align: top;\n",
       "    }\n",
       "\n",
       "    .dataframe thead th {\n",
       "        text-align: right;\n",
       "    }\n",
       "</style>\n",
       "<table border=\"1\" class=\"dataframe\">\n",
       "  <thead>\n",
       "    <tr style=\"text-align: right;\">\n",
       "      <th></th>\n",
       "      <th>ga:sourceMedium</th>\n",
       "      <th>ga:pageTitle</th>\n",
       "      <th>ga:users</th>\n",
       "      <th>ga:bounceRate</th>\n",
       "      <th>ga:pageviews</th>\n",
       "      <th>ga:pageviewsPerSession</th>\n",
       "      <th>ga:avgTimeOnPage</th>\n",
       "      <th>title_length</th>\n",
       "      <th>has_number</th>\n",
       "      <th>exclamation_mark</th>\n",
       "    </tr>\n",
       "  </thead>\n",
       "  <tbody>\n",
       "    <tr>\n",
       "      <th>0</th>\n",
       "      <td>facebook / cpc</td>\n",
       "      <td>Bikin Lambe Turah Diomelin, Nih Si Seksi yang ...</td>\n",
       "      <td>1.826292</td>\n",
       "      <td>-0.352400</td>\n",
       "      <td>6.774568</td>\n",
       "      <td>-0.313474</td>\n",
       "      <td>-0.690117</td>\n",
       "      <td>73</td>\n",
       "      <td>0</td>\n",
       "      <td>0</td>\n",
       "    </tr>\n",
       "    <tr>\n",
       "      <th>1</th>\n",
       "      <td>facebook / cpc</td>\n",
       "      <td>Heboh! Kiki Farel Transfer Uang Jajan Rp 1 Jut...</td>\n",
       "      <td>2.164319</td>\n",
       "      <td>0.845853</td>\n",
       "      <td>5.964779</td>\n",
       "      <td>-0.357589</td>\n",
       "      <td>-0.760361</td>\n",
       "      <td>70</td>\n",
       "      <td>1</td>\n",
       "      <td>1</td>\n",
       "    </tr>\n",
       "    <tr>\n",
       "      <th>2</th>\n",
       "      <td>facebook / cpc</td>\n",
       "      <td>Tak Sesuai Harapan, Barang Belanja Online Ini ...</td>\n",
       "      <td>0.894812</td>\n",
       "      <td>-0.027607</td>\n",
       "      <td>4.323773</td>\n",
       "      <td>-0.285488</td>\n",
       "      <td>-0.694760</td>\n",
       "      <td>58</td>\n",
       "      <td>0</td>\n",
       "      <td>0</td>\n",
       "    </tr>\n",
       "    <tr>\n",
       "      <th>3</th>\n",
       "      <td>facebook / cpc</td>\n",
       "      <td>Antar 'Tuyul', 7 Pengemudi Grab Dibekuk</td>\n",
       "      <td>6.517450</td>\n",
       "      <td>-0.694991</td>\n",
       "      <td>3.753507</td>\n",
       "      <td>-0.465723</td>\n",
       "      <td>-0.905416</td>\n",
       "      <td>39</td>\n",
       "      <td>1</td>\n",
       "      <td>0</td>\n",
       "    </tr>\n",
       "    <tr>\n",
       "      <th>4</th>\n",
       "      <td>facebook / cpc</td>\n",
       "      <td>Melihat Kantor Pelayanan Grab Driver Center</td>\n",
       "      <td>6.091533</td>\n",
       "      <td>-0.565125</td>\n",
       "      <td>3.427254</td>\n",
       "      <td>0.851533</td>\n",
       "      <td>1.357583</td>\n",
       "      <td>43</td>\n",
       "      <td>0</td>\n",
       "      <td>0</td>\n",
       "    </tr>\n",
       "    <tr>\n",
       "      <th>...</th>\n",
       "      <td>...</td>\n",
       "      <td>...</td>\n",
       "      <td>...</td>\n",
       "      <td>...</td>\n",
       "      <td>...</td>\n",
       "      <td>...</td>\n",
       "      <td>...</td>\n",
       "      <td>...</td>\n",
       "      <td>...</td>\n",
       "      <td>...</td>\n",
       "    </tr>\n",
       "    <tr>\n",
       "      <th>150</th>\n",
       "      <td>facebook / cpc</td>\n",
       "      <td>Ungkapan Duka Cita Untuk Sys NS Deras di Insta...</td>\n",
       "      <td>-0.286650</td>\n",
       "      <td>-0.888962</td>\n",
       "      <td>-0.286545</td>\n",
       "      <td>-0.499857</td>\n",
       "      <td>0.442836</td>\n",
       "      <td>50</td>\n",
       "      <td>0</td>\n",
       "      <td>0</td>\n",
       "    </tr>\n",
       "    <tr>\n",
       "      <th>151</th>\n",
       "      <td>facebook / cpc</td>\n",
       "      <td>Edan, Ponsel Ini Punya Baterai 13.000 mAh</td>\n",
       "      <td>-0.279650</td>\n",
       "      <td>1.252920</td>\n",
       "      <td>-0.287307</td>\n",
       "      <td>-0.443172</td>\n",
       "      <td>0.337827</td>\n",
       "      <td>41</td>\n",
       "      <td>1</td>\n",
       "      <td>0</td>\n",
       "    </tr>\n",
       "    <tr>\n",
       "      <th>152</th>\n",
       "      <td>facebook / cpc</td>\n",
       "      <td>Gempa Keras di Jakarta Terasa Lebih dari 1 Menit</td>\n",
       "      <td>-0.282450</td>\n",
       "      <td>-0.332073</td>\n",
       "      <td>-0.287307</td>\n",
       "      <td>-0.426166</td>\n",
       "      <td>2.035575</td>\n",
       "      <td>48</td>\n",
       "      <td>1</td>\n",
       "      <td>0</td>\n",
       "    </tr>\n",
       "    <tr>\n",
       "      <th>153</th>\n",
       "      <td>facebook / cpc</td>\n",
       "      <td>Jennifer Dunn dan Deretan Mobil Mewahnya</td>\n",
       "      <td>-0.282450</td>\n",
       "      <td>1.895485</td>\n",
       "      <td>-0.287307</td>\n",
       "      <td>0.237049</td>\n",
       "      <td>0.288310</td>\n",
       "      <td>40</td>\n",
       "      <td>0</td>\n",
       "      <td>0</td>\n",
       "    </tr>\n",
       "    <tr>\n",
       "      <th>154</th>\n",
       "      <td>facebook / cpc</td>\n",
       "      <td>Kasus Salah Baca Xiaomi Terulang Kembali</td>\n",
       "      <td>-0.282450</td>\n",
       "      <td>1.431411</td>\n",
       "      <td>-0.287307</td>\n",
       "      <td>-0.438448</td>\n",
       "      <td>1.325485</td>\n",
       "      <td>40</td>\n",
       "      <td>0</td>\n",
       "      <td>0</td>\n",
       "    </tr>\n",
       "  </tbody>\n",
       "</table>\n",
       "<p>155 rows × 10 columns</p>\n",
       "</div>"
      ],
      "text/plain": [
       "    ga:sourceMedium                                       ga:pageTitle  \\\n",
       "0    facebook / cpc  Bikin Lambe Turah Diomelin, Nih Si Seksi yang ...   \n",
       "1    facebook / cpc  Heboh! Kiki Farel Transfer Uang Jajan Rp 1 Jut...   \n",
       "2    facebook / cpc  Tak Sesuai Harapan, Barang Belanja Online Ini ...   \n",
       "3    facebook / cpc            Antar 'Tuyul', 7 Pengemudi Grab Dibekuk   \n",
       "4    facebook / cpc        Melihat Kantor Pelayanan Grab Driver Center   \n",
       "..              ...                                                ...   \n",
       "150  facebook / cpc  Ungkapan Duka Cita Untuk Sys NS Deras di Insta...   \n",
       "151  facebook / cpc          Edan, Ponsel Ini Punya Baterai 13.000 mAh   \n",
       "152  facebook / cpc   Gempa Keras di Jakarta Terasa Lebih dari 1 Menit   \n",
       "153  facebook / cpc           Jennifer Dunn dan Deretan Mobil Mewahnya   \n",
       "154  facebook / cpc           Kasus Salah Baca Xiaomi Terulang Kembali   \n",
       "\n",
       "     ga:users  ga:bounceRate  ga:pageviews  ga:pageviewsPerSession  \\\n",
       "0    1.826292      -0.352400      6.774568               -0.313474   \n",
       "1    2.164319       0.845853      5.964779               -0.357589   \n",
       "2    0.894812      -0.027607      4.323773               -0.285488   \n",
       "3    6.517450      -0.694991      3.753507               -0.465723   \n",
       "4    6.091533      -0.565125      3.427254                0.851533   \n",
       "..        ...            ...           ...                     ...   \n",
       "150 -0.286650      -0.888962     -0.286545               -0.499857   \n",
       "151 -0.279650       1.252920     -0.287307               -0.443172   \n",
       "152 -0.282450      -0.332073     -0.287307               -0.426166   \n",
       "153 -0.282450       1.895485     -0.287307                0.237049   \n",
       "154 -0.282450       1.431411     -0.287307               -0.438448   \n",
       "\n",
       "     ga:avgTimeOnPage  title_length  has_number  exclamation_mark  \n",
       "0           -0.690117            73           0                 0  \n",
       "1           -0.760361            70           1                 1  \n",
       "2           -0.694760            58           0                 0  \n",
       "3           -0.905416            39           1                 0  \n",
       "4            1.357583            43           0                 0  \n",
       "..                ...           ...         ...               ...  \n",
       "150          0.442836            50           0                 0  \n",
       "151          0.337827            41           1                 0  \n",
       "152          2.035575            48           1                 0  \n",
       "153          0.288310            40           0                 0  \n",
       "154          1.325485            40           0                 0  \n",
       "\n",
       "[155 rows x 10 columns]"
      ]
     },
     "execution_count": 118,
     "metadata": {},
     "output_type": "execute_result"
    }
   ],
   "source": [
    "# Daftar fitur numerik yang akan distandarisasi\n",
    "numeric_features = ['ga:users', 'ga:bounceRate', 'ga:pageviews', 'ga:pageviewsPerSession', 'ga:avgTimeOnPage']\n",
    "\n",
    "# Membuat instance StandardScaler\n",
    "scaler = StandardScaler()\n",
    "\n",
    "# Melakukan standarisasi pada fitur numerik\n",
    "df[numeric_features] = scaler.fit_transform(df[numeric_features])\n",
    "\n",
    "# Menampilkan hasil standarisasi\n",
    "df"
   ]
  },
  {
   "cell_type": "markdown",
   "id": "6639c106",
   "metadata": {},
   "source": [
    "### • Memilih fitur dan target"
   ]
  },
  {
   "cell_type": "code",
   "execution_count": 17,
   "id": "1b9dce59",
   "metadata": {},
   "outputs": [],
   "source": [
    "# ingin memprediksi 'ga:pageviewsPerSession'\n",
    "X = df.drop(['ga:pageviews'], axis=1)\n",
    "y = df['ga:pageviews']"
   ]
  },
  {
   "cell_type": "markdown",
   "id": "91fd0d5f",
   "metadata": {},
   "source": [
    "### • Buat preprocessor"
   ]
  },
  {
   "cell_type": "code",
   "execution_count": 18,
   "id": "05ce4459",
   "metadata": {},
   "outputs": [],
   "source": [
    "preprocessor = ColumnTransformer(\n",
    "    transformers=[\n",
    "        ('num', StandardScaler(), ['title_length', 'ga:users', 'ga:bounceRate']),\n",
    "        ('cat', OneHotEncoder(drop='first', sparse_output=False), ['ga:sourceMedium'])\n",
    "    ])"
   ]
  },
  {
   "cell_type": "markdown",
   "id": "d5e4e4f4",
   "metadata": {},
   "source": [
    "### • Buat pipeline"
   ]
  },
  {
   "cell_type": "code",
   "execution_count": 76,
   "id": "844acfeb",
   "metadata": {},
   "outputs": [],
   "source": [
    "model = Pipeline([\n",
    "    ('preprocessor', preprocessor),\n",
    "    ('regressor', RandomForestRegressor(random_state=42))\n",
    "])"
   ]
  },
  {
   "cell_type": "markdown",
   "id": "e1696fa7",
   "metadata": {},
   "source": [
    "## > Split Data rasio 80 : 20"
   ]
  },
  {
   "cell_type": "code",
   "execution_count": 77,
   "id": "d1074cf9",
   "metadata": {},
   "outputs": [
    {
     "name": "stdout",
     "output_type": "stream",
     "text": [
      "Mean Squared Error: 0.023\n",
      "Mean Absolute Error: 0.044\n",
      "R-squared Score: 0.804\n"
     ]
    }
   ],
   "source": [
    "# 8. Split data\n",
    "X_train, X_test, y_train, y_test = train_test_split(X, y, test_size=0.2, random_state=42)\n",
    "\n",
    "# 9. Latih model\n",
    "model.fit(X_train, y_train)\n",
    "\n",
    "# 10. Prediksi\n",
    "y_pred = model.predict(X_test)\n",
    "\n",
    "# 11. Evaluasi model\n",
    "mse = mean_squared_error(y_test, y_pred)\n",
    "mae = mean_absolute_error(y_test, y_pred)\n",
    "r2 = r2_score(y_test, y_pred)\n",
    "\n",
    "print(f\"Mean Squared Error: {mse:.3f}\")\n",
    "print(f\"Mean Absolute Error: {mae:.3f}\")\n",
    "print(f\"R-squared Score: {r2:.3f}\")"
   ]
  },
  {
   "cell_type": "markdown",
   "id": "1b207503",
   "metadata": {},
   "source": [
    "## > Split Data rasio 70 : 30"
   ]
  },
  {
   "cell_type": "code",
   "execution_count": 78,
   "id": "383eada6",
   "metadata": {},
   "outputs": [
    {
     "name": "stdout",
     "output_type": "stream",
     "text": [
      "Mean Squared Error: 0.049\n",
      "Mean Absolute Error: 0.065\n",
      "R-squared Score: 0.394\n"
     ]
    }
   ],
   "source": [
    "# 8. Split data\n",
    "X_train_73, X_test_73, y_train_73, y_test_73 = train_test_split(X, y, test_size=0.3, random_state=42)\n",
    "\n",
    "# 9. Latih model\n",
    "model.fit(X_train_73, y_train_73)\n",
    "\n",
    "# 10. Prediksi\n",
    "y_pred_73 = model.predict(X_test_73)\n",
    "\n",
    "# 11. Evaluasi model\n",
    "mse_73 = mean_squared_error(y_test_73, y_pred_73)\n",
    "mae_73 = mean_absolute_error(y_test_73, y_pred_73)\n",
    "r2_73 = r2_score(y_test_73, y_pred_73)\n",
    "\n",
    "print(f\"Mean Squared Error: {mse_73:.3f}\")\n",
    "print(f\"Mean Absolute Error: {mae_73:.3f}\")\n",
    "print(f\"R-squared Score: {r2_73:.3f}\")"
   ]
  },
  {
   "cell_type": "markdown",
   "id": "4250008f",
   "metadata": {},
   "source": [
    "## > Split Data rasio 60 : 40"
   ]
  },
  {
   "cell_type": "code",
   "execution_count": 79,
   "id": "309d01ad",
   "metadata": {},
   "outputs": [
    {
     "name": "stdout",
     "output_type": "stream",
     "text": [
      "Mean Squared Error: 0.044\n",
      "Mean Absolute Error: 0.072\n",
      "R-squared Score: 0.863\n"
     ]
    }
   ],
   "source": [
    "# 8. Split data\n",
    "X_train_64, X_test_64, y_train_64, y_test_64 = train_test_split(X, y, test_size=0.4, random_state=42)\n",
    "\n",
    "# 9. Latih model\n",
    "model.fit(X_train_64, y_train_64)\n",
    "\n",
    "# 10. Prediksi\n",
    "y_pred = model.predict(X_test_64)\n",
    "\n",
    "# 11. Evaluasi model\n",
    "mse = mean_squared_error(y_test_64, y_pred)\n",
    "mae = mean_absolute_error(y_test_64, y_pred)\n",
    "r2 = r2_score(y_test_64, y_pred)\n",
    "\n",
    "print(f\"Mean Squared Error: {mse:.3f}\")\n",
    "print(f\"Mean Absolute Error: {mae:.3f}\")\n",
    "print(f\"R-squared Score: {r2:.3f}\")"
   ]
  },
  {
   "cell_type": "markdown",
   "id": "9d70a099",
   "metadata": {},
   "source": [
    "## > Split Data rasio 75 : 25"
   ]
  },
  {
   "cell_type": "code",
   "execution_count": 80,
   "id": "51e8eec4",
   "metadata": {},
   "outputs": [
    {
     "name": "stdout",
     "output_type": "stream",
     "text": [
      "Mean Squared Error: 0.013\n",
      "Mean Absolute Error: 0.037\n",
      "R-squared Score: 0.863\n"
     ]
    }
   ],
   "source": [
    "# 8. Split data\n",
    "X_train_75, X_test_75, y_train_75, y_test_75 = train_test_split(X, y, test_size=0.25, random_state=42)\n",
    "\n",
    "# 9. Latih model\n",
    "model.fit(X_train_75, y_train_75)\n",
    "\n",
    "# 10. Prediksi\n",
    "y_pred = model.predict(X_test_75)\n",
    "\n",
    "# 11. Evaluasi model\n",
    "mse = mean_squared_error(y_test_75, y_pred)\n",
    "mae = mean_absolute_error(y_test_75, y_pred)\n",
    "r2 = r2_score(y_test_75, y_pred)\n",
    "\n",
    "print(f\"Mean Squared Error: {mse:.3f}\")\n",
    "print(f\"Mean Absolute Error: {mae:.3f}\")\n",
    "print(f\"R-squared Score: {r2:.3f}\")"
   ]
  },
  {
   "cell_type": "markdown",
   "id": "1dcb2c40",
   "metadata": {},
   "source": [
    "# 5.  Tuning Parameter Menggunakan library GridSearchCV"
   ]
  },
  {
   "cell_type": "markdown",
   "id": "df4e440e",
   "metadata": {},
   "source": [
    "## • Turning Parameter pada split rasio 80:20"
   ]
  },
  {
   "cell_type": "code",
   "execution_count": 81,
   "id": "137a4bd5",
   "metadata": {},
   "outputs": [
    {
     "name": "stdout",
     "output_type": "stream",
     "text": [
      "Best parameters: {'regressor__max_depth': None, 'regressor__min_samples_leaf': 1, 'regressor__min_samples_split': 2, 'regressor__n_estimators': 300}\n",
      "Best cross-validation score: 0.23621333098157143\n"
     ]
    }
   ],
   "source": [
    "# Define parameter grid for GridSearchCV\n",
    "param_grid = {\n",
    "    'regressor__n_estimators': [50, 100, 200, 300, 400, 500],\n",
    "    'regressor__max_depth': [None, 10, 20, 30],\n",
    "    'regressor__min_samples_split': [2, 5, 10],\n",
    "    'regressor__min_samples_leaf': [1, 2, 4]\n",
    "}\n",
    "\n",
    "# Perform GridSearchCV\n",
    "grid_search = GridSearchCV(model, param_grid, cv=5, scoring='neg_mean_squared_error', n_jobs=-1)\n",
    "grid_search.fit(X_train, y_train)\n",
    "\n",
    "# Print best parameters and score\n",
    "print(\"Best parameters:\", grid_search.best_params_)\n",
    "print(\"Best cross-validation score:\", -grid_search.best_score_)"
   ]
  },
  {
   "cell_type": "code",
   "execution_count": 82,
   "id": "38005358",
   "metadata": {},
   "outputs": [
    {
     "name": "stdout",
     "output_type": "stream",
     "text": [
      "Mean Squared Error (MSE): 0.021\n",
      "Mean Absolute Error (MAE): 0.046\n",
      "R-squared (R²): 0.818\n"
     ]
    }
   ],
   "source": [
    "# Use best model for prediction\n",
    "best_model = grid_search.best_estimator_\n",
    "y_pred = best_model.predict(X_test)\n",
    "\n",
    "# Evaluate\n",
    "mse = mean_squared_error(y_test, y_pred)\n",
    "mae = mean_absolute_error(y_test, y_pred)\n",
    "r2 = r2_score(y_test, y_pred)\n",
    "print(f\"Mean Squared Error (MSE): {mse:.3f}\")\n",
    "print(f\"Mean Absolute Error (MAE): {mae:.3f}\")\n",
    "print(f\"R-squared (R²): {r2:.3f}\")"
   ]
  },
  {
   "cell_type": "markdown",
   "id": "a0da82f4",
   "metadata": {},
   "source": [
    "## • Turning Parameter pada split rasio 70 : 30"
   ]
  },
  {
   "cell_type": "code",
   "execution_count": 83,
   "id": "5b5cdae4",
   "metadata": {
    "scrolled": true
   },
   "outputs": [
    {
     "name": "stdout",
     "output_type": "stream",
     "text": [
      "Best parameters: {'regressor__max_depth': None, 'regressor__min_samples_leaf': 1, 'regressor__min_samples_split': 2, 'regressor__n_estimators': 500}\n",
      "Best cross-validation score: 0.2638409890842247\n"
     ]
    }
   ],
   "source": [
    "# Define parameter grid for GridSearchCV\n",
    "param_grid = {\n",
    "    'regressor__n_estimators': [50, 100, 200, 300, 400, 500],\n",
    "    'regressor__max_depth': [None, 10, 20, 30],\n",
    "    'regressor__min_samples_split': [2, 5, 10],\n",
    "    'regressor__min_samples_leaf': [1, 2, 4]\n",
    "}\n",
    "\n",
    "# Perform GridSearchCV\n",
    "grid_search = GridSearchCV(model, param_grid, cv=5, scoring='neg_mean_squared_error', n_jobs=-1)\n",
    "grid_search.fit(X_train_73, y_train_73)\n",
    "\n",
    "# Print best parameters and score\n",
    "print(\"Best parameters:\", grid_search.best_params_)\n",
    "print(\"Best cross-validation score:\", -grid_search.best_score_)"
   ]
  },
  {
   "cell_type": "code",
   "execution_count": 84,
   "id": "c5c0f211",
   "metadata": {},
   "outputs": [
    {
     "name": "stdout",
     "output_type": "stream",
     "text": [
      "Mean Squared Error (MSE): 0.048\n",
      "Mean Absolute Error (MAE): 0.065\n",
      "R-squared (R²): 0.407\n"
     ]
    }
   ],
   "source": [
    "# Use best model for prediction\n",
    "best_model = grid_search.best_estimator_\n",
    "y_pred = best_model.predict(X_test_73)\n",
    "\n",
    "# Evaluate\n",
    "mse = mean_squared_error(y_test_73, y_pred)\n",
    "mae = mean_absolute_error(y_test_73, y_pred)\n",
    "r2 = r2_score(y_test_73, y_pred)\n",
    "print(f\"Mean Squared Error (MSE): {mse:.3f}\")\n",
    "print(f\"Mean Absolute Error (MAE): {mae:.3f}\")\n",
    "print(f\"R-squared (R²): {r2:.3f}\")"
   ]
  },
  {
   "cell_type": "markdown",
   "id": "c0d73fe2",
   "metadata": {},
   "source": [
    "## • Turning Parameter pada split rasio 60 : 40"
   ]
  },
  {
   "cell_type": "code",
   "execution_count": 93,
   "id": "3d7bc1c1",
   "metadata": {},
   "outputs": [
    {
     "name": "stdout",
     "output_type": "stream",
     "text": [
      "Best parameters: {'regressor__max_depth': None, 'regressor__min_samples_leaf': 1, 'regressor__min_samples_split': 2, 'regressor__n_estimators': 50}\n",
      "Best cross-validation score: 0.2697092365955429\n"
     ]
    }
   ],
   "source": [
    "# Define parameter grid for GridSearchCV\n",
    "param_grid = {\n",
    "    'regressor__n_estimators': [50, 100, 200, 300, 400, 500],\n",
    "    'regressor__max_depth': [None, 10, 20, 30],\n",
    "    'regressor__min_samples_split': [2, 5, 10],\n",
    "    'regressor__min_samples_leaf': [1, 2, 4]\n",
    "}\n",
    "\n",
    "# Perform GridSearchCV\n",
    "grid_search = GridSearchCV(model, param_grid, cv=5, scoring='neg_mean_squared_error', n_jobs=-1)\n",
    "grid_search.fit(X_train_64, y_train_64)\n",
    "\n",
    "# Print best parameters and score\n",
    "print(\"Best parameters:\", grid_search.best_params_)\n",
    "print(\"Best cross-validation score:\", -grid_search.best_score_)"
   ]
  },
  {
   "cell_type": "code",
   "execution_count": 94,
   "id": "c4987a42",
   "metadata": {},
   "outputs": [
    {
     "name": "stdout",
     "output_type": "stream",
     "text": [
      "Mean Squared Error: 0.046\n",
      "Mean Absolute Error: 0.074\n",
      "R-squared Score: 0.857\n"
     ]
    }
   ],
   "source": [
    "# Mengambil model terbaik dari GridSearchCV\n",
    "best_model_64 = grid_search.best_estimator_\n",
    "y_pred = best_model_64.predict(X_test_64)\n",
    "\n",
    "# 11. Evaluasi model\n",
    "mse = mean_squared_error(y_test_64, y_pred)\n",
    "mae = mean_absolute_error(y_test_64, y_pred)\n",
    "r2 = r2_score(y_test_64, y_pred)\n",
    "\n",
    "print(f\"Mean Squared Error: {mse:.3f}\")\n",
    "print(f\"Mean Absolute Error: {mae:.3f}\")\n",
    "print(f\"R-squared Score: {r2:.3f}\")"
   ]
  },
  {
   "cell_type": "markdown",
   "id": "4983a47d",
   "metadata": {},
   "source": [
    "## • Turning Parameter pada split rasio 75 : 25"
   ]
  },
  {
   "cell_type": "code",
   "execution_count": 87,
   "id": "1c8caec9",
   "metadata": {},
   "outputs": [
    {
     "name": "stdout",
     "output_type": "stream",
     "text": [
      "Best parameters: {'regressor__max_depth': 10, 'regressor__min_samples_leaf': 1, 'regressor__min_samples_split': 2, 'regressor__n_estimators': 50}\n",
      "Best cross-validation score: 0.1993585168458405\n"
     ]
    }
   ],
   "source": [
    "# Define parameter grid for GridSearchCV\n",
    "param_grid = {\n",
    "    'regressor__n_estimators': [50, 100, 200, 300, 400, 500],\n",
    "    'regressor__max_depth': [None, 10, 20, 30],\n",
    "    'regressor__min_samples_split': [2, 5, 10],\n",
    "    'regressor__min_samples_leaf': [1, 2, 4]\n",
    "}\n",
    "\n",
    "# Perform GridSearchCV\n",
    "grid_search = GridSearchCV(model, param_grid, cv=5, scoring='neg_mean_squared_error', n_jobs=-1)\n",
    "grid_search.fit(X_train_75, y_train_75)\n",
    "\n",
    "# Print best parameters and score\n",
    "print(\"Best parameters:\", grid_search.best_params_)\n",
    "print(\"Best cross-validation score:\", -grid_search.best_score_)"
   ]
  },
  {
   "cell_type": "code",
   "execution_count": 119,
   "id": "a5fcbbf4",
   "metadata": {},
   "outputs": [
    {
     "name": "stdout",
     "output_type": "stream",
     "text": [
      "Mean Squared Error: 0.039\n",
      "Mean Absolute Error: 0.064\n",
      "R-squared Score: 0.579\n"
     ]
    }
   ],
   "source": [
    "# Mengambil model terbaik dari GridSearchCV\n",
    "best_model = grid_search.best_estimator_\n",
    "y_pred = best_model.predict(X_test_75)\n",
    "\n",
    "# 11. Evaluasi model\n",
    "mse = mean_squared_error(y_test_75, y_pred)\n",
    "mae = mean_absolute_error(y_test_75, y_pred)\n",
    "r2 = r2_score(y_test_75, y_pred)\n",
    "\n",
    "print(f\"Mean Squared Error: {mse:.3f}\")\n",
    "print(f\"Mean Absolute Error: {mae:.3f}\")\n",
    "print(f\"R-squared Score: {r2:.3f}\")"
   ]
  },
  {
   "cell_type": "markdown",
   "id": "21e206db",
   "metadata": {},
   "source": [
    "## Feature Importance rasio split 60 : 40\n",
    "Dari hasil evaluasi, rekomendasi yang paling baik adalah menggunakan Rasio 60:40 karena memberikan hasil yang paling baik dengan R-squared Score sebesar 0.857 dan Mean Absolute Error sebesar 0.074."
   ]
  },
  {
   "cell_type": "code",
   "execution_count": 96,
   "id": "c119ef3a",
   "metadata": {},
   "outputs": [
    {
     "name": "stdout",
     "output_type": "stream",
     "text": [
      "\n",
      "Feature Importances:\n",
      "                        feature    importance\n",
      "1                      ga:users  8.484942e-01\n",
      "0                  title_length  1.201515e-01\n",
      "2                 ga:bounceRate  3.135419e-02\n",
      "3  ga:sourceMedium_google / cpc  4.274285e-08\n"
     ]
    },
    {
     "data": {
      "image/png": "[encoded data removed]",
      "text/plain": [
       "<Figure size 1000x600 with 1 Axes>"
      ]
     },
     "metadata": {},
     "output_type": "display_data"
    }
   ],
   "source": [
    "# Analisis feature importance\n",
    "feature_names = (best_model_64.named_steps['preprocessor'].named_transformers_['num'].get_feature_names_out().tolist() +\n",
    "                 best_model_64.named_steps['preprocessor'].named_transformers_['cat'].get_feature_names_out().tolist())\n",
    "importances = best_model_64.named_steps['regressor'].feature_importances_\n",
    "feature_importance_64 = pd.DataFrame({'feature': feature_names, 'importance': importances})\n",
    "feature_importance_64 = feature_importance_64.sort_values('importance', ascending=False)\n",
    "\n",
    "print(\"\\nFeature Importances:\")\n",
    "print(feature_importance_64)\n",
    "\n",
    "# Plot pentingnya fitur\n",
    "plt.figure(figsize=(10, 6))\n",
    "sns.barplot(x='importance', y='feature', data=feature_importance_64)\n",
    "plt.title('Feature Importance')\n",
    "plt.xlabel('Importance')\n",
    "plt.ylabel('Feature')\n",
    "plt.show()"
   ]
  },
  {
   "cell_type": "code",
   "execution_count": null,
   "id": "9c5e8177",
   "metadata": {},
   "outputs": [],
   "source": []
  }
 ],
 "metadata": {
  "kernelspec": {
   "display_name": "Python 3 (ipykernel)",
   "language": "python",
   "name": "python3"
  },
  "language_info": {
   "codemirror_mode": {
    "name": "ipython",
    "version": 3
   },
   "file_extension": ".py",
   "mimetype": "text/x-python",
   "name": "python",
   "nbconvert_exporter": "python",
   "pygments_lexer": "ipython3",
   "version": "3.10.9"
  }
 },
 "nbformat": 4,
 "nbformat_minor": 5
}
